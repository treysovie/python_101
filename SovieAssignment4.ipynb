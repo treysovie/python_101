{
 "cells": [
  {
   "cell_type": "markdown",
   "id": "4632502d-9735-453a-a436-e1583c123492",
   "metadata": {},
   "source": [
    "##### Name: Trey Sovie\n",
    "##### Date: 09/16/2025\n",
    "<n></n>\n",
    "#### Assignment: 4\n",
    "*** "
   ]
  },
  {
   "cell_type": "markdown",
   "id": "c59f646a-4a9b-48a4-a58f-4faf251aa5e7",
   "metadata": {},
   "source": [
    "## Wiki: \n",
    "\n",
    "Creating the Green Eggs and Ham word counter program was a great exercise in the importance of having different research approaches when tackling programming challenges. This project reinforced that being open-minded about research sources is crucial for successful problem-solving in programming.\n",
    "\n",
    "\n",
    "> For this assignment, I relied on three key resources that each served a unique purpose in my development process:\n",
    "\n",
    "> Python Crash Course served as my primary reference throughout the project. I've owned this book since I was twelve, and it has consistently been my go-to resource for Python fundamentals. Its comprehensive coverage of basic concepts like loops, lists, and file handling provided the foundational knowledge I needed to structure my program. The book's clear explanations of list comprehensions were particularly valuable when I needed to process and filter words efficiently.\n",
    "\n",
    "> Quick Python (provided by the professor) became invaluable when I encountered string manipulation challenges. The strings section helped me understand how to properly handle text processing, especially when dealing with punctuation removal and case conversion. This resource was crucial when I discovered that my program was counting punctuation marks and capitalized words as separate entities.\n",
    "\n",
    "> Automate the Boring Stuff with Python proved essential for the file handling component of my project. When I initially encountered the FileNotFoundError and Unicode escape sequence issues, this book's detailed explanation of file paths and reading text files guided me through the solutions. It helped me understand the differences between raw strings, forward slashes, and escaped backslashes in Windows file paths.\n",
    "\n",
    "The most challenging aspects of this project weren't the core programming logic, but rather the edge cases and formatting issues that emerged during testing. When my program initially returned 52 unique words instead of the expected 50, I had to research string processing techniques to identify the problems: a typo in the source text (\"spam\" instead of \"ham\", which required some research on the poem itself to track down the pesky bug) and issues with punctuation handling.\n",
    "This experience demonstrated that effective programming research isn't just about learning syntax—it's about understanding how different approaches solve specific problems, and understanding the nature of the material you're working with as well. Had I not looked into the original text of the poem, I legitimately never would have tracked down that bug. It was a classic runtime error, where technically I had done everything correctly but had overlooked some small detail of the input.\n",
    "The combination of foundational knowledge from Python Crash Course, targeted string manipulation techniques from Quick Python, and practical file handling solutions from Automate the Boring Stuff gave me a diverse set of sources for tackling this project successfully."
   ]
  },
  {
   "cell_type": "code",
   "id": "806d2f78-c094-42f3-acf2-e646e6a1ed9f",
   "metadata": {
    "scrolled": true,
    "ExecuteTime": {
     "end_time": "2025-09-16T16:41:44.536259Z",
     "start_time": "2025-09-16T16:41:44.531894Z"
    }
   },
   "source": [
    "# Green Eggs and Ham Processor\n",
    "\n",
    "# Trey Sovie\n",
    "# 9/16/2025\n",
    "# Python 101\n",
    "\n",
    "import string\n",
    "\n",
    "with open('C:/users/treys/downloads/Green Eggs and Ham.txt') as file_object: # opens the file, creates an object and returns the file to said object.\n",
    "    contents = file_object.read() # loads the contents into a string\n",
    "    print(contents)\n",
    "    contents = contents.replace('-', ' ') # removes hyphenation, allowing for more accurate word analysis\n",
    "\n",
    "    words = [word.strip(string.punctuation).lower() for word in contents.split() if word.strip(string.punctuation)] # converts the string into a list of individual lowercase words, without punctuation or whitespace\n",
    "    used_words = [] # initiates an empty list which will contain the words already found in the string\n",
    "    unique_words = 0 # ditto, but a counter for said words\n",
    "\n",
    "    for word in words: # run through every word in the string\n",
    "        if word not in used_words:\n",
    "            used_words.append(word) # add the new word to the unique word list\n",
    "            unique_words += 1 # increment the count of unique words\n",
    "\n",
    "    print(used_words) # print results for debugging / display\n",
    "    print('\\nUnique words: {0}'.format(unique_words))\n"
   ],
   "outputs": [
    {
     "name": "stdout",
     "output_type": "stream",
     "text": [
      "I am Sam\n",
      "Sam I am\n",
      "\n",
      "That Sam-I-am!\n",
      "That Sam-I-am!\n",
      "I do not like that Sam-I-am!\n",
      "\n",
      "Do you like \n",
      "green eggs and ham?\n",
      "I do not like them, Sam-I-am.\n",
      "I do not like\n",
      "green eggs and ham.\n",
      "\n",
      "Would you like them \n",
      "here or there?\n",
      "\n",
      "I would not like them\n",
      "here or there.\n",
      "I would not like them anywhere. \n",
      "\n",
      "I do not like\n",
      "green eggs and ham.\n",
      "I do not like them, Sam-I-am.\n",
      "\n",
      "Would you like them in a house?\n",
      "Would you like them with a mouse?\n",
      "\n",
      "I do not like them\n",
      "in a house.\n",
      "I do not like them\n",
      "with a mouse.\n",
      "I do not like them\n",
      "here or there.\n",
      "I do not like them\n",
      "anywhere.\n",
      "I do not like \n",
      "green eggs and ham.\n",
      "I do not like them, \n",
      "Sam-I-am.\n",
      "\n",
      "Would you eat them\n",
      "in a box?\n",
      "Would you eat them\n",
      "with a fox?\n",
      "\n",
      "Not in a box. \n",
      "Not with a fox.\n",
      "Not in a house.\n",
      "Not with a mouse.\n",
      "I would not eat them\n",
      "here or there.\n",
      "I would not eat them anywhere.\n",
      "I would not eat green eggs and ham.\n",
      "I do not like them, Sam-I-am.\n",
      "\n",
      "Would you? Could you? In a car?\n",
      "Eat them! Eat them! Here they are.\n",
      "I would not, could not, in a car.\n",
      "\n",
      "You may like them. You will see. \n",
      "You may like them in a tree!\n",
      "\n",
      "I would not, could not in a tree.\n",
      "Not in a car! You let me be.\n",
      "\n",
      "I do not like them in a box.\n",
      "I do not like them with a fox.\n",
      "I do not like them in a house.\n",
      "I do not like them with a mouse.\n",
      "I do not like them here or there.\n",
      "I do not like them anywhere.\n",
      "I do not like green eggs and ham.\n",
      "I do not like them, Sam-I-am.\n",
      "\n",
      "A train! A train!\n",
      "A train! A train!\n",
      "Could you, would you,\n",
      "on a train?\n",
      "\n",
      "Not in a train! Not in a tree!\n",
      "Not in a car! Sam! Let me be!\n",
      "\n",
      "I would not, could not, in a box.\n",
      "I could not, would not, with a fox.\n",
      "I will not eat them with a mouse.\n",
      "I will not eat them in a house.\n",
      "I will not eat them here or there.\n",
      "I will not eat them anywhere.\n",
      "I do not like green eggs and ham.\n",
      "I do not like them, Sam-I-am.\n",
      "\n",
      "Say! In the dark?\n",
      "Here in the dark!\n",
      "Would you, could you,\n",
      "in the dark?\n",
      "\n",
      "I would not, could not, in the dark.\n",
      "\n",
      "Would you, could you, in the rain?\n",
      "\n",
      "I would not, could not, in the rain.\n",
      "Not in the dark. Not on a train.\n",
      "Not in a car. Not in a tree.\n",
      "I do not like them, Sam, you see.\n",
      "Not in a house. Not in a box.\n",
      "Not with a mouse. Not with a fox.\n",
      "I will not eat them here or there.\n",
      "I do not like them anywhere!\n",
      "\n",
      "You do not like \n",
      "green eggs and ham?\n",
      "I do not like them,\n",
      "Sam-I-am.\n",
      "\n",
      "Could you, would you, \n",
      "with a goat?\n",
      "\n",
      "I would not, could not,\n",
      "with a goat!\n",
      "\n",
      "Would you, could you,\n",
      "on a boat?\n",
      "\n",
      "I could not, would not, \n",
      "on a boat.\n",
      "I will not, will not, \n",
      "with a goat.\n",
      "\n",
      "I will not eat them in the rain.\n",
      "I will not eat them on a train.\n",
      "Not in the dark! Not in a tree!\n",
      "Not in a car! You let me be!\n",
      "I do not like them in a box.\n",
      "I do not like them with a fox.\n",
      "I will not eat them in a house.\n",
      "I do not like them with a mouse.\n",
      "I do not like them here or there.\n",
      "I do not like them anywhere!\n",
      "I do not like green eggs and ham!\n",
      "I do not like them, Sam-I-am.\n",
      "\n",
      "\n",
      "You do not like them. So you say.\n",
      "Try them! Try them! And you may.\n",
      "Try them and you may, I say.\n",
      "\n",
      "Sam! If you will let me be,\n",
      "I will try them. You will see.\n",
      "\n",
      "Say! I like green eggs and ham!\n",
      "I do! I like them, Sam-I-am!\n",
      "And I would eat them in a boat.\n",
      "And I would eat them with a goat...\n",
      "\n",
      "And I will eat them in the rain.\n",
      "And in the dark. And on a train.\n",
      "And in a car. And in a tree.\n",
      "They are so good, so good, you see!\n",
      "\n",
      "So I will eat them in a box.\n",
      "And I will eat them with a fox.\n",
      "And I will eat them in a house.\n",
      "And I will eat them with a mouse.\n",
      "And I will eat them here and there.\n",
      "Say! I will eat them anywhere!\n",
      "I do so like\n",
      "green eggs and ham!\n",
      "Thank you!\n",
      "Thank you, Sam-I-am!\n",
      "\n",
      "['i', 'am', 'sam', 'that', 'do', 'not', 'like', 'you', 'green', 'eggs', 'and', 'ham', 'them', 'would', 'here', 'or', 'there', 'anywhere', 'in', 'a', 'house', 'with', 'mouse', 'eat', 'box', 'fox', 'could', 'car', 'they', 'are', 'may', 'will', 'see', 'tree', 'let', 'me', 'be', 'train', 'on', 'say', 'the', 'dark', 'rain', 'goat', 'boat', 'so', 'try', 'if', 'good', 'thank']\n",
      "\n",
      "Unique words: 50\n"
     ]
    }
   ],
   "execution_count": 8
  },
  {
   "cell_type": "markdown",
   "id": "ae75fd90-22b0-4f3f-a8c0-e8a6c908a832",
   "metadata": {},
   "source": [
    "## Questions:"
   ]
  },
  {
   "metadata": {},
   "cell_type": "markdown",
   "source": [
    "# Python Class Session: Strings, Loops, Lists, and Functions\n",
    "\n",
    "## Main Purpose & Connection\n"
   ],
   "id": "f6dab6d55c1fd1e9"
  },
  {
   "metadata": {},
   "cell_type": "markdown",
   "source": [
    "\n",
    "**1.**"
   ],
   "id": "d9ac1ed1901a9c69"
  },
  {
   "metadata": {},
   "cell_type": "markdown",
   "source": [
    "\n",
    "\n",
    "**2.**\n"
   ],
   "id": "ecce082ada1d8243"
  },
  {
   "metadata": {},
   "cell_type": "markdown",
   "source": [
    "\n",
    "\n",
    "## Warm-Up\n",
    "\n",
    "**3.**\n"
   ],
   "id": "e6751e59170b23c2"
  },
  {
   "metadata": {},
   "cell_type": "markdown",
   "source": [
    "\n",
    "\n",
    "**4.**\n",
    "```\n",
    "for letter in \"ABC\":\n",
    "    print(letter)\n",
    "```\n",
    "**Answer:**\n",
    "```\n",
    "A\n",
    "B\n",
    "C\n",
    "```\n",
    "Each letter will be printed on its own line.\n",
    "\n"
   ],
   "id": "439f39fde839004b"
  },
  {
   "metadata": {},
   "cell_type": "markdown",
   "source": [
    "**5.**\n",
    "A `for` loop eliminates repetitive code and makes the intent clear with fewer lines. Instead of writing `print(\"A\")`, `print(\"B\")`, `print(\"C\")`, the loop shows we want to perform the same action on each element, making the code more maintainable and scalable.\n"
   ],
   "id": "f29cf379ca5ae829"
  },
  {
   "metadata": {},
   "cell_type": "markdown",
   "source": [
    "\n",
    "## Flow of Control\n",
    "\n",
    "**6.**\n",
    "Flow of control refers to the order in which Python executes statements in a program. It determines which lines run, when they run, and how many times they run based on conditions and loop structures.\n"
   ],
   "id": "90987b815b9d2d54"
  },
  {
   "metadata": {},
   "cell_type": "markdown",
   "source": [
    "\n",
    "**7.**\n",
    "Indentation defines code blocks and determines which statements belong together. Indented lines under a `for` loop or `if` statement are executed as part of that structure, while unindented lines mark the end of the block.\n"
   ],
   "id": "bbfcf0c09c3533"
  },
  {
   "metadata": {},
   "cell_type": "markdown",
   "source": [
    "\n",
    "**8.**\n",
    "Python skips all the indented code inside that `if` block and continues executing the next unindented line after the `if` statement.\n"
   ],
   "id": "5c80fa8eb17b1990"
  },
  {
   "metadata": {},
   "cell_type": "markdown",
   "source": [
    "\n",
    "**9.**\n",
    "Python executes the lines inside the loop sequentially (top to bottom) for each iteration. After reaching the last indented line, it returns to the `for` statement to get the next item and repeats the process.\n"
   ],
   "id": "b28bd2d959415194"
  },
  {
   "metadata": {},
   "cell_type": "markdown",
   "source": [
    "\n",
    "**10.**\n",
    "Functions contain their own flow of control, and understanding this helps you predict what values will be returned, when the function will exit (via `return`), and how different inputs will affect the function's behavior.\n"
   ],
   "id": "bc273c4b3cade912"
  },
  {
   "metadata": {},
   "cell_type": "markdown",
   "source": [
    "\n",
    "## Loops with Strings\n",
    "\n",
    "**11.**\n",
    "```\n",
    "for letter in \"Python\":\n",
    "    print(letter)\n",
    "```\n"
   ],
   "id": "1f846b34ddb612fb"
  },
  {
   "metadata": {},
   "cell_type": "markdown",
   "source": [
    "\n",
    "**12.**\n",
    "```\n",
    "count = 0\n",
    "for letter in \"banana\":\n",
    "    if letter == \"a\":\n",
    "        count += 1\n",
    "print(count)\n",
    "```\n"
   ],
   "id": "f14f1af8d7f53a55"
  },
  {
   "metadata": {},
   "cell_type": "markdown",
   "source": [
    "\n",
    "**13.**\n",
    "When looping through a string, you iterate over characters. When looping through a list, you iterate over the elements (which could be strings, numbers, or other data types). The syntax is the same, but the data types are different.\n"
   ],
   "id": "6d266a473bd1da3d"
  },
  {
   "metadata": {},
   "cell_type": "markdown",
   "source": [
    "\n",
    "**14.**\n",
    "```\n",
    "L\n",
    "O\n",
    "O\n",
    "P\n",
    "```\n",
    "Each character is converted to uppercase and printed on its own line.\n"
   ],
   "id": "7cefbb686d1d2bc5"
  },
  {
   "metadata": {},
   "cell_type": "markdown",
   "source": [
    "\n",
    "## Introducing Lists\n",
    "\n",
    "**15.**\n",
    "```\n",
    "fruits = [\"apple\", \"banana\", \"orange\"]\n",
    "```\n"
   ],
   "id": "8312159525aab659"
  },
  {
   "metadata": {},
   "cell_type": "markdown",
   "source": [
    "\n",
    "**16.**\n",
    "```\n",
    "words[1]  # Remember: lists are zero-indexed, so index 1 is the second element\n",
    "```\n"
   ],
   "id": "134d72669889abc1"
  },
  {
   "metadata": {},
   "cell_type": "markdown",
   "source": [
    "\n",
    "**17.**\n",
    "```\n",
    "for color in colors:\n",
    "    print(color)\n",
    "```\n"
   ],
   "id": "4825b23f79025ffb"
  },
  {
   "metadata": {},
   "cell_type": "markdown",
   "source": [
    "\n",
    "**18.**\n",
    "Python raises an `IndexError` exception, which stops the program unless the error is handled. For example, if a list has 3 elements and you try to access index 5, you'll get an \"list index out of range\" error.\n"
   ],
   "id": "6862fbf8d4e833a9"
  },
  {
   "metadata": {},
   "cell_type": "markdown",
   "source": [
    "\n",
    "## Functions\n",
    "\n",
    "**19.**\n",
    "Functions eliminate code duplication and make programs more organized. Instead of writing the same processing code multiple times, you write it once in a function and call it whenever needed, making your code more maintainable and less error-prone.\n"
   ],
   "id": "af9fe6b22d347b6f"
  },
  {
   "metadata": {},
   "cell_type": "markdown",
   "source": [
    "\n",
    "**20.**\n",
    "```\n",
    "def print_letters(text):\n",
    "    for letter in text:\n",
    "        print(letter)\n",
    "```\n"
   ],
   "id": "dbd25e412d14d189"
  },
  {
   "metadata": {},
   "cell_type": "markdown",
   "source": [
    "\n",
    "**21.**\n",
    "Defining a function (using `def`) creates the function and stores it in memory, but doesn't execute the code inside. Calling a function (using the function name with parentheses) actually runs the code inside the function.\n"
   ],
   "id": "364179d3e717014f"
  },
  {
   "metadata": {},
   "cell_type": "markdown",
   "source": [
    "\n",
    "**22.**\n",
    "The `return` statement sends a value back to the code that called the function and immediately exits the function. It allows functions to produce results that can be used elsewhere in the program.\n"
   ],
   "id": "b5e9bcfb6cace36d"
  },
  {
   "metadata": {},
   "cell_type": "markdown",
   "source": [
    "\n",
    "## Exit & Reflection\n",
    "\n",
    "**23.**\n",
    "Flow of control is the order in which Python executes statements in a program, determined by the sequence of code and control structures like loops and conditionals.\n"
   ],
   "id": "377340c95f88f592"
  },
  {
   "metadata": {},
   "cell_type": "markdown",
   "source": [
    "**24.**\n",
    "```\n",
    "for letter in \"hello\":\n",
    "    if letter != \"e\":\n",
    "        print(letter)\n",
    "```\n",
    "Or using `continue`:\n",
    "```\n",
    "for letter in \"hello\":\n",
    "    if letter == \"e\":\n",
    "        continue\n",
    "    print(letter)\n",
    "```\n"
   ],
   "id": "76a177baabf324ed"
  },
  {
   "metadata": {},
   "cell_type": "markdown",
   "source": [
    "**25.**\n",
    "Combining these concepts allows you to process large amounts of data efficiently and reusably. Loops handle repetitive tasks, lists organize related data, and functions package solutions that can be used multiple times. Together, they enable you to write programs that can handle complex, real-world problems with clean, maintainable code.1."
   ],
   "id": "450e76c64ff52eb"
  }
 ],
 "metadata": {
  "kernelspec": {
   "display_name": "Python 3 (ipykernel)",
   "language": "python",
   "name": "python3"
  },
  "language_info": {
   "codemirror_mode": {
    "name": "ipython",
    "version": 3
   },
   "file_extension": ".py",
   "mimetype": "text/x-python",
   "name": "python",
   "nbconvert_exporter": "python",
   "pygments_lexer": "ipython3",
   "version": "3.13.5"
  }
 },
 "nbformat": 4,
 "nbformat_minor": 5
}
